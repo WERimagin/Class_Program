{
 "cells": [
  {
   "cell_type": "code",
   "execution_count": 3,
   "metadata": {},
   "outputs": [
    {
     "name": "stdout",
     "output_type": "stream",
     "text": [
      "今日\tキョウ\t今日\t名詞-副詞可能\t\t\n",
      "は\tハ\tは\t助詞-係助詞\t\t\n",
      "いい\tイイ\tいい\t形容詞-自立\t形容詞・イイ\t基本形\n",
      "天気\tテンキ\t天気\t名詞-一般\t\t\n",
      "です\tデス\tです\t助動詞\t特殊・デス\t基本形\n",
      "ね\tネ\tね\t助詞-終助詞\t\t\n",
      "。\t。\t。\t記号-句点\t\t\n",
      "EOS\n",
      "\n"
     ]
    }
   ],
   "source": [
    "import sys\n",
    "import MeCab\n",
    "mecab = MeCab.Tagger(\"-Ochasen\")\n",
    "text=mecab.parse(\"今日はいい天気ですね。\")\n",
    "print(text)"
   ]
  }
 ],
 "metadata": {
  "kernelspec": {
   "display_name": "Python 3",
   "language": "python",
   "name": "python3"
  },
  "language_info": {
   "codemirror_mode": {
    "name": "ipython",
    "version": 3
   },
   "file_extension": ".py",
   "mimetype": "text/x-python",
   "name": "python",
   "nbconvert_exporter": "python",
   "pygments_lexer": "ipython3",
   "version": "3.6.5"
  }
 },
 "nbformat": 4,
 "nbformat_minor": 2
}
